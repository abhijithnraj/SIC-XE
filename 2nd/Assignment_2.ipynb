{
 "cells": [
  {
   "cell_type": "code",
   "execution_count": 114,
   "metadata": {},
   "outputs": [
    {
     "name": "stdout",
     "output_type": "stream",
     "text": [
      "Enter a valid SIC/XE instruction in BLOCK LETTERS\n",
      " eg: ADDR r1,r2\n",
      "addr r1,r2\n",
      "The instruction format of addr r1,r2 is format 2\n"
     ]
    }
   ],
   "source": [
    "def format30R4(mnemonic):\n",
    "    if(mnemonic[0]==\"+\"):\n",
    "        return 4\n",
    "    else:\n",
    "        return 3\n",
    "def format_instruction(instruction):\n",
    "    words=instruction.split();\n",
    "    length=len(words)\n",
    "    mnemonic = words[0].upper() # ie ADD SUB etc\n",
    "    #print(words,length)\n",
    "    if(mnemonic==\"OR\" or mnemonic==\"RD\"): #always 3 or 4\n",
    "        return format30R4(mnemonic)\n",
    "    if(length==1):\n",
    "        if(\"RSUB\" in mnemonic): #only exception for format 1 with only one word instruction\n",
    "            return format30R4(mnemonic)\n",
    "        else:\n",
    "            return 1\n",
    "    elif(length==2):\n",
    "        if( (mnemonic[0]==\"R\" or mnemonic[-1]==\"R\") or (\"SHIFT\" in mnemonic) or\n",
    "        \t\t\t\t\t\t\t (\"CLEAR\" in mnemonic) or(mnemonic==\"SVC\")):\n",
    "                    return 2\n",
    "        else:\n",
    "                return format30R4(mnemonic)\n",
    "instruction=input(\"Enter a valid SIC/XE instruction in BLOCK LETTERS\\n eg: ADDR r1,r2\\n\")\n",
    "print(\"The instruction format of \"+str(instruction)+\" is format \"+str(format_instruction(instruction)))\n"
   ]
  },
  {
   "cell_type": "code",
   "execution_count": 109,
   "metadata": {},
   "outputs": [
    {
     "name": "stdout",
     "output_type": "stream",
     "text": [
      "['ADD m', 'ADDF m', 'ADDR r1,r2', 'AND m', 'CLEAR r1', 'COMP m', 'COMPF m', 'COMPR r1,r2', 'DIV m', 'DIVF m', 'DIVR r1,r2', 'FIX', 'FLOAT', 'HLO', 'J m', 'JEQ m', 'JGT m', 'JLT m', 'JSUB m', 'LDA m', 'LDB m', 'LDCH m', 'LDF m', 'LDL m', 'LDS m', 'LDT m', 'LDX m', 'LDX m', 'LPS m', 'MUL m', 'MULF m', 'MULR r1,r2', 'NORM', 'OR m', 'RD m', 'RMO r1,r2', 'RSUB', 'SHIFTL r1,n', 'SHIFTR r1,n', 'SIO', 'SSK m', 'STA m', 'STB m', 'STCH m', '+STI m', 'STL m', 'STS m', 'STSW m', 'STT m', 'STX m', 'SUB m', 'SUBF m', 'SUBR r1,r2', 'SVC n', 'TD m', 'TIO', 'TIX m', 'TIXR r1', '+wd m']\n",
      "ADD m 3\n",
      "ADDF m 3\n",
      "ADDR r1,r2 2\n",
      "AND m 3\n",
      "CLEAR r1 2\n",
      "COMP m 3\n",
      "COMPF m 3\n",
      "COMPR r1,r2 2\n",
      "DIV m 3\n",
      "DIVF m 3\n",
      "DIVR r1,r2 2\n",
      "FIX 1\n",
      "FLOAT 1\n",
      "HLO 1\n",
      "J m 3\n",
      "JEQ m 3\n",
      "JGT m 3\n",
      "JLT m 3\n",
      "JSUB m 3\n",
      "LDA m 3\n",
      "LDB m 3\n",
      "LDCH m 3\n",
      "LDF m 3\n",
      "LDL m 3\n",
      "LDS m 3\n",
      "LDT m 3\n",
      "LDX m 3\n",
      "LDX m 3\n",
      "LPS m 3\n",
      "MUL m 3\n",
      "MULF m 3\n",
      "MULR r1,r2 2\n",
      "NORM 1\n",
      "OR m 3\n",
      "RD m 3\n",
      "RMO r1,r2 2\n",
      "RSUB 3\n",
      "SHIFTL r1,n 2\n",
      "SHIFTR r1,n 2\n",
      "SIO 1\n",
      "SSK m 3\n",
      "STA m 3\n",
      "STB m 3\n",
      "STCH m 3\n",
      "+STI m 4\n",
      "STL m 3\n",
      "STS m 3\n",
      "STSW m 3\n",
      "STT m 3\n",
      "STX m 3\n",
      "SUB m 3\n",
      "SUBF m 3\n",
      "SUBR r1,r2 2\n",
      "SVC n 2\n",
      "TD m 3\n",
      "TIO 1\n",
      "TIX m 3\n",
      "TIXR r1 2\n",
      "+wd m 4\n"
     ]
    }
   ],
   "source": [
    "'''\n",
    "def format30R4(mnemonic):\n",
    "    if(mnemonic[0]==\"+\"):\n",
    "        return 4\n",
    "    else:\n",
    "        return 3\n",
    "def format_instruction(instruction):\n",
    "    words=instruction.split();\n",
    "    mnemonic = words[0].upper() # ie ADD SUB etc\n",
    "    if(mnemonic==\"OR\" or mnemonic==\"RD\"):\n",
    "        return format30R4(mnemonic)\n",
    "    if(\"RSUB\" in mnemonic):\n",
    "            return format30R4(mnemonic)\n",
    "    if( (mnemonic[0]==\"R\" or mnemonic[-1]==\"R\")\n",
    "                or(\"SHIFT\" in mnemonic) or (\"CLEAR\" in mnemonic) \n",
    "                or(mnemonic==\"SVC\")):\n",
    "                    #print(\"here also\")\n",
    "                    return 2\n",
    "    else:\n",
    "   \t\treturn format30R4(mnemonic)\n",
    "'''\n",
    "list_instructions=open(\"instruction_list.txt\").read().split(\"\\n\")\n",
    "print(list_instructions)\n",
    "for i in list_instructions:\n",
    "    print(i,format_instruction(i))\n"
   ]
  }
 ],
 "metadata": {
  "kernelspec": {
   "display_name": "Python 3",
   "language": "python",
   "name": "python3"
  },
  "language_info": {
   "codemirror_mode": {
    "name": "ipython",
    "version": 3
   },
   "file_extension": ".py",
   "mimetype": "text/x-python",
   "name": "python",
   "nbconvert_exporter": "python",
   "pygments_lexer": "ipython3",
   "version": "3.7.0"
  }
 },
 "nbformat": 4,
 "nbformat_minor": 2
}

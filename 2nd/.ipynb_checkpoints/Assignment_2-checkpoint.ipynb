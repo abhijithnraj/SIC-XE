{
 "cells": [
  {
   "cell_type": "code",
   "execution_count": 12,
   "metadata": {},
   "outputs": [
    {
     "name": "stdout",
     "output_type": "stream",
     "text": [
      "Enter the instructionADDR R1,R2\n",
      "['ADDR', 'R1,R2'] 2\n",
      "The instruction format of ADDR R1,R2is 2\n"
     ]
    }
   ],
   "source": [
    "def format_instruction(menumonic):\n",
    "    words=menumonic.split();\n",
    "    length=len(words)\n",
    "    instruction = words[0] # ie ADD SUB etc\n",
    "    print(words,length)\n",
    "    if(length==1):\n",
    "        return 1\n",
    "    elif(length==2):\n",
    "        if(words[1].find(\",\")!=-1):\n",
    "            if((instruction[0]==\"R\" or instruction[-1]==\"R\")\n",
    "                or(\"SHIFT\" in instruction) or instruction==\"CLEAR\" \n",
    "                or(instruction==\"SVC\")):\n",
    "                    return 2\n",
    "        else:\n",
    "            if(instruction[0]==\"+\"):\n",
    "                return 4\n",
    "            else:\n",
    "                return 3\n",
    "mneumonic=input(\"Enter the instruction\")\n",
    "print(\"The instruction format of \"+str(mneumonic)+\"is \"+str(format_instruction(mneumonic)))\n",
    "\n"
   ]
  },
  {
   "cell_type": "code",
   "execution_count": 2,
   "metadata": {},
   "outputs": [
    {
     "ename": "SyntaxError",
     "evalue": "invalid syntax (<ipython-input-2-be141ccc0637>, line 1)",
     "output_type": "error",
     "traceback": [
      "\u001b[0;36m  File \u001b[0;32m\"<ipython-input-2-be141ccc0637>\"\u001b[0;36m, line \u001b[0;32m1\u001b[0m\n\u001b[0;31m    if(-1){\u001b[0m\n\u001b[0m          ^\u001b[0m\n\u001b[0;31mSyntaxError\u001b[0m\u001b[0;31m:\u001b[0m invalid syntax\n"
     ]
    }
   ],
   "source": [
    "list_instructions=[\n",
    "    \"ADD M\"\n",
    "]"
   ]
  }
 ],
 "metadata": {
  "kernelspec": {
   "display_name": "Python 3",
   "language": "python",
   "name": "python3"
  },
  "language_info": {
   "codemirror_mode": {
    "name": "ipython",
    "version": 3
   },
   "file_extension": ".py",
   "mimetype": "text/x-python",
   "name": "python",
   "nbconvert_exporter": "python",
   "pygments_lexer": "ipython3",
   "version": "3.7.0"
  }
 },
 "nbformat": 4,
 "nbformat_minor": 2
}
